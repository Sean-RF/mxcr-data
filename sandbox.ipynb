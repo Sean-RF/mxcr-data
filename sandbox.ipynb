{
 "cells": [
  {
   "cell_type": "code",
   "execution_count": null,
   "metadata": {},
   "outputs": [],
   "source": [
    "import numpy as np\n",
    "import xarray as xr\n",
    "import datetime\n",
    "import time"
   ]
  },
  {
   "cell_type": "code",
   "execution_count": null,
   "metadata": {},
   "outputs": [],
   "source": [
    "nbins = 2**10 # number of frequency bins\n",
    "Fs = 4e9 # sampling frequency\n",
    "freq_axis = np.linspace(0,Fs/2,nbins)\n",
    "\n",
    "nTimestamps = 15\n",
    "\n",
    "stand_in_data = np.zeros((nTimestamps,nbins,10),dtype=np.complex128)\n",
    "timestamps = []\n",
    "\n",
    "for i in range(nTimestamps):\n",
    "    stand_in_data[i] = np.random.randn(nbins, 10) + 1j* np.random.randn(nbins,10)\n",
    "    timestamps.append(datetime.datetime.now())\n",
    "    time.sleep(0.05)\n",
    "\n",
    "example_xarray = xr.DataArray(\n",
    "    data=stand_in_data,\n",
    "    dims=[\"time\", \"frequency\", \"Coherency_Index\"],\n",
    "    coords=dict(\n",
    "        time = ('time', timestamps),\n",
    "        frequency=('frequency', freq_axis),\n",
    "        Coherency_Index =  (\"Coherency_Index\", [\"11\",\"21\",\"31\",\"41\",\"22\",\"32\",\"42\",\"33\",\"34\",\"44\"])\n",
    "    ),\n",
    "    attrs=dict(\n",
    "        description=\"Coherency Samples\",\n",
    "    ),\n",
    "    name='some data')\n"
   ]
  },
  {
   "cell_type": "code",
   "execution_count": null,
   "metadata": {},
   "outputs": [],
   "source": [
    "example_xarray\n",
    "# example_xarray.sel(frequency = slice(1e9,1.5e9))"
   ]
  },
  {
   "cell_type": "code",
   "execution_count": null,
   "metadata": {},
   "outputs": [],
   "source": [
    "def save_complex(data_array, filepath):\n",
    "    ds = xr.Dataset({'real':data_array.real, 'imag':data_array.imag})\n",
    "    ds.to_netcdf(filepath)\n",
    "\n",
    "def load_complex(filepath):\n",
    "    ds = xr.open_dataset(filepath)\n",
    "    return ds['real'] + ds['imag']*1j"
   ]
  },
  {
   "cell_type": "code",
   "execution_count": null,
   "metadata": {},
   "outputs": [],
   "source": [
    "save_complex(example_xarray,'exampleSave.nc')"
   ]
  },
  {
   "cell_type": "code",
   "execution_count": null,
   "metadata": {},
   "outputs": [],
   "source": [
    "loadedData = load_complex('exampleSave.nc')"
   ]
  },
  {
   "cell_type": "code",
   "execution_count": null,
   "metadata": {},
   "outputs": [],
   "source": [
    "loadedData"
   ]
  },
  {
   "cell_type": "code",
   "execution_count": null,
   "metadata": {},
   "outputs": [],
   "source": []
  }
 ],
 "metadata": {
  "kernelspec": {
   "display_name": "Python 3",
   "language": "python",
   "name": "python3"
  },
  "language_info": {
   "codemirror_mode": {
    "name": "ipython",
    "version": 3
   },
   "file_extension": ".py",
   "mimetype": "text/x-python",
   "name": "python",
   "nbconvert_exporter": "python",
   "pygments_lexer": "ipython3",
   "version": "3.8.10"
  }
 },
 "nbformat": 4,
 "nbformat_minor": 2
}
